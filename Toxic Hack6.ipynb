{
 "cells": [
  {
   "cell_type": "markdown",
   "metadata": {},
   "source": [
    "# Toxicity (a Hack6 Project)"
   ]
  },
  {
   "cell_type": "markdown",
   "metadata": {},
   "source": [
    "## Text Log"
   ]
  },
  {
   "cell_type": "code",
   "execution_count": null,
   "metadata": {},
   "outputs": [],
   "source": [
    "# install necessary packages if it's not already installed\n",
    "!pip install cohere\n",
    "!pip install twilio\n",
    "!pip install translate\n",
    "\n",
    "# note: these are packages used in the `twitter_util.py` file\n",
    "!pip install tweepy\n",
    "!pip install tqdm  # progress bar package"
   ]
  },
  {
   "cell_type": "code",
   "execution_count": 1,
   "metadata": {},
   "outputs": [],
   "source": [
    "import pandas as pd\n",
    "import numpy as np\n",
    "import cohere\n",
    "from cohere.classify import Example"
   ]
  },
  {
   "cell_type": "code",
   "execution_count": 2,
   "metadata": {},
   "outputs": [],
   "source": [
    "csv_file = pd.read_csv(\"Cohere Examples.csv\")"
   ]
  },
  {
   "cell_type": "code",
   "execution_count": 3,
   "metadata": {},
   "outputs": [],
   "source": [
    "examples = []\n",
    "for index, row in csv_file.iterrows():\n",
    "    examples.append(Example(csv_file.at[index, \"Tweet\"], csv_file.at[index, \"Sentiment\"]))"
   ]
  },
  {
   "cell_type": "code",
   "execution_count": 4,
   "metadata": {},
   "outputs": [],
   "source": [
    "API_KEY = placeholder_key\n",
    "co = cohere.Client(API_KEY)"
   ]
  },
  {
   "cell_type": "code",
   "execution_count": 5,
   "metadata": {
    "scrolled": true
   },
   "outputs": [
    {
     "name": "stdout",
     "output_type": "stream",
     "text": [
      "Negative\n",
      "Positive\n",
      "Negative\n",
      "Negative\n",
      "Negative\n",
      "Positive\n"
     ]
    }
   ],
   "source": [
    "# testing cohere algorithm\n",
    "response = co.classify(\n",
    "  model='medium',\n",
    "  taskDescription='',\n",
    "  outputIndicator='',\n",
    "  inputs=[\"Lmao you suck\", \"Nice Good Job!\", \"lmao why are you even posting this\", \"XD\", 'Bruh', 'Wow Cant Wait'],\n",
    "  examples=examples)\n",
    "\n",
    "for i in response.classifications:\n",
    "    print(i.prediction)"
   ]
  },
  {
   "cell_type": "code",
   "execution_count": 6,
   "metadata": {},
   "outputs": [],
   "source": [
    "# convert txt to dictionary given the filepath of the txt\n",
    "def convert_txt(filepath):\n",
    "    txt = open(filepath, \"r\")\n",
    "    # dictionary where key is the user and value is a list of messages the user sent during the inputted conversation\n",
    "    user_messages = {}\n",
    "    try:\n",
    "        for line in txt:\n",
    "            line = line.strip()\n",
    "            user, message = line.split(\":\")[0], line.split(\":\")[1]\n",
    "            if user in user_messages:\n",
    "                user_messages[user].append(message)\n",
    "            else:\n",
    "                user_messages[user] = [message]\n",
    "        return user_messages\n",
    "    \n",
    "    # txt not in correct format\n",
    "    except Exception as e:\n",
    "        print('Please format the txt file in the following format: Username: Message')\n",
    "        return {}"
   ]
  },
  {
   "cell_type": "code",
   "execution_count": 7,
   "metadata": {},
   "outputs": [],
   "source": [
    "# given a txt file of the conversation return a dictionary where the key is the user and the value is a list of the sentiments\n",
    "# of all messages\n",
    "def classify_conversation(filepath):\n",
    "    conversation = convert_txt(filepath)\n",
    "    # if txt is empty or not formatted correctly \n",
    "    if not conversation:\n",
    "        return []\n",
    "    \n",
    "    # dict where key is user and value is a list of the sentiment of each message the user sent\n",
    "    user_evaluation = {}\n",
    "    for user in conversation:\n",
    "        user_evaluation[user] = response_classification(conversation[user])\n",
    "    \n",
    "    return user_evaluation"
   ]
  },
  {
   "cell_type": "code",
   "execution_count": 8,
   "metadata": {},
   "outputs": [],
   "source": [
    "# function which takes in a phrase and returns the sentiment in the format of a list \n",
    "def response_classification(phrase):\n",
    "    if type(phrase) == str:\n",
    "        phrase = [phrase]\n",
    "        \n",
    "    response = co.classify(\n",
    "      model='medium',\n",
    "      taskDescription='',\n",
    "      outputIndicator='',\n",
    "      inputs=phrase,\n",
    "      examples=examples)\n",
    "    \n",
    "    output = []\n",
    "    for sentiment in response.classifications:\n",
    "        output.append(sentiment.prediction)\n",
    "    \n",
    "    return output"
   ]
  },
  {
   "cell_type": "code",
   "execution_count": 9,
   "metadata": {},
   "outputs": [
    {
     "name": "stdout",
     "output_type": "stream",
     "text": [
      "{'Person1': ['Positive', 'Negative', 'Negative'], 'Person2': ['Positive', 'Negative']}\n"
     ]
    }
   ],
   "source": [
    "# test inputting txt as convo \n",
    "print(classify_conversation('Cohere Test.txt'))"
   ]
  },
  {
   "cell_type": "code",
   "execution_count": 9,
   "metadata": {},
   "outputs": [],
   "source": [
    "def get_text_toxicity(filepath):\n",
    "    '''Defines the toxicity of users in the `filepath` conversation using a simple average of sentiment.\n",
    "    The average is binary (1 being completely toxic and 0 being completely not toxic), computed over\n",
    "    individual sentiment classifications (1 is negative, 0 is positive). For example, 2 negatives and 1\n",
    "    positive phrase would result in 2/3 = 0.67\n",
    "    \n",
    "    The return type is a dictionary with {key: value} pair being {name_of_person: toxicity_level}'''\n",
    "    conversation_classification = classify_conversation(filepath)\n",
    "    for k, v in conversation_classification.items():\n",
    "        toxicity_score = np.average([1 if sentiment == 'Negative' else 0 for sentiment in v])\n",
    "        conversation_classification[k] = toxicity_score\n",
    "    return conversation_classification"
   ]
  },
  {
   "cell_type": "code",
   "execution_count": 11,
   "metadata": {},
   "outputs": [
    {
     "data": {
      "text/plain": [
       "{'Person1': 0.6666666666666666, 'Person2': 0.5}"
      ]
     },
     "execution_count": 11,
     "metadata": {},
     "output_type": "execute_result"
    }
   ],
   "source": [
    "# test\n",
    "get_text_toxicity('Cohere Test.txt')"
   ]
  },
  {
   "cell_type": "markdown",
   "metadata": {},
   "source": [
    "## Twitter"
   ]
  },
  {
   "cell_type": "markdown",
   "metadata": {},
   "source": [
    "### User"
   ]
  },
  {
   "cell_type": "code",
   "execution_count": 10,
   "metadata": {
    "scrolled": true
   },
   "outputs": [],
   "source": [
    "# when we're done with development, it's good form to change the import statement from everything (*) to only the \n",
    "# functions we need to use\n",
    "# from twitter_util import get_tweets, get_followers_tweets <-- need to add more\n",
    "\n",
    "from twitter_util import *"
   ]
  },
  {
   "cell_type": "code",
   "execution_count": 13,
   "metadata": {},
   "outputs": [],
   "source": [
    "espn_tweets = get_tweets('ESPN', 5)"
   ]
  },
  {
   "cell_type": "code",
   "execution_count": 14,
   "metadata": {},
   "outputs": [
    {
     "data": {
      "text/plain": [
       "{'2022-8-21': ['RT @espnmma: Nothing but respect between Aldo and Dvalishvili 👏 #UFC278 https://t.co/kc7JTbp11H',\n",
       "  'Chelsea Gray had a hand in 46 of the Aces 117 points 😳 @cgray209 https://t.co/h8QDuyjBO0',\n",
       "  'The @LVAces are advancing in the #WNBAPlayoffs after a DOMINANT 117-80 win against Phoenix 😤 \\n\\n#ThatsaW https://t.co/uTAFcT7xS8',\n",
       "  'Casual push-up contest between the Gronks 💪 \\n\\nStream #UFC278 with The Gronks NOW on @ESPNPlus ➡️ https://t.co/kLyGQAw3pk https://t.co/6VTa5kZPaa',\n",
       "  'Paddy Pimblett says he put on 50 pounds in three weeks 😮 #UFC278 https://t.co/p6Z0Pttb18']}"
      ]
     },
     "execution_count": 14,
     "metadata": {},
     "output_type": "execute_result"
    }
   ],
   "source": [
    "espn_tweets"
   ]
  },
  {
   "cell_type": "code",
   "execution_count": 11,
   "metadata": {},
   "outputs": [],
   "source": [
    "def compute_toxicity_score(tweets, return_num_tweets=False):\n",
    "    '''\n",
    "    Given a Twitter dictionary of `tweets` in the form {date: [list of tweets]}, return the average sentiment (classify\n",
    "    each tweet as positive (0) or negative (1) and then find the average).\n",
    "    \n",
    "    If the `return_num_tweets` flag is True, this function returns both the toxicity score (i.e. average sentiment) and the\n",
    "    number of tweets.\n",
    "    '''\n",
    "    sentiments = []\n",
    "    for tweet in list(tweets.values()):\n",
    "        for response_class in response_classification(tweet):\n",
    "            sentiment = 1 if response_class == 'Negative' else 0\n",
    "            sentiments.append(sentiment)\n",
    "    if return_num_tweets is False:\n",
    "        return np.average(sentiments)\n",
    "    else:\n",
    "        return np.average(sentiments), len(sentiments)"
   ]
  },
  {
   "cell_type": "code",
   "execution_count": 12,
   "metadata": {},
   "outputs": [],
   "source": [
    "def get_twitter_toxicity(username, num_tweets):\n",
    "    '''Defines a certain twitter user with `username`'s toxicity based on the previous `num_tweets` tweets using simple\n",
    "    average of sentiment. The average is binary (1 being completely toxic and 0 being completely not toxic), computed over\n",
    "    individual sentiment classifications (1 is negative, 0 is positive).'''\n",
    "    tweets = get_tweets(username, num_tweets)\n",
    "    return compute_toxicity_score(tweets)"
   ]
  },
  {
   "cell_type": "code",
   "execution_count": null,
   "metadata": {},
   "outputs": [],
   "source": [
    "get_twitter_toxicity('ESPN', 10)"
   ]
  },
  {
   "cell_type": "code",
   "execution_count": null,
   "metadata": {},
   "outputs": [],
   "source": [
    "get_twitter_toxicity('cobraatateg', 10)\n",
    "# other examples I tried (was cool just to see)\n",
    "# get_twitter_toxicity('POTUS', 10)\n",
    "# get_twitter_toxicity('KSI', 10)"
   ]
  },
  {
   "cell_type": "markdown",
   "metadata": {},
   "source": [
    "### Followers"
   ]
  },
  {
   "cell_type": "code",
   "execution_count": null,
   "metadata": {
    "scrolled": false
   },
   "outputs": [],
   "source": [
    "# try it out for ESPN before making a general function\n",
    "espn_followers_tweets = get_followers_tweets('ESPN', 10, num_followers=25, progress=True)"
   ]
  },
  {
   "cell_type": "code",
   "execution_count": null,
   "metadata": {
    "scrolled": true
   },
   "outputs": [],
   "source": [
    "espn_followers_tweets"
   ]
  },
  {
   "cell_type": "code",
   "execution_count": 13,
   "metadata": {},
   "outputs": [],
   "source": [
    "def calculate_weighted_toxicity(tweets, return_data=False):\n",
    "    '''\n",
    "    Accept a dictionary of {username: dict({date: [list of tweets]})} (like `espn_followers_tweets` above) and calculate\n",
    "    the toxicity score as follows:\n",
    "    \n",
    "    1. if the follower has no tweets, ignore them\n",
    "    2. for each follower, find their average sentiment score over their tweets * number of tweets (I call this the\n",
    "    weighted_val)\n",
    "    3. To find the final score, take sum(weighted_val) / number of tweets\n",
    "    \n",
    "    This is basically a weighted average (i.e. in the case that one person tweets three times and another once, the\n",
    "    person that tweets 3 times will have their toxicity score be 3 times more important). Another way to think about it\n",
    "    is that we are effectively taking the average over all tweets treated individually (i.e. it doesn't matter who tweets\n",
    "    them), but we do it like this for now in case the info is useful later.\n",
    "    '''\n",
    "    follower_toxicities = {}\n",
    "    all_toxicities = []\n",
    "    for k, v in tqdm(tweets.items()):\n",
    "        if v is None:\n",
    "            continue\n",
    "        if len(v) == 0:  # if the follower has not tweeted at all\n",
    "            follower_toxicities[k] = (0, 0)  # NOTE: this can be changed later just added it to make sure the UI works\n",
    "            continue\n",
    "        toxic_score, num_tweets = compute_toxicity_score(v, return_num_tweets=True)\n",
    "        for _ in range(num_tweets):\n",
    "            all_toxicities.append(toxic_score)\n",
    "\n",
    "    if len(all_toxicities) == 0:\n",
    "        return 0\n",
    "        \n",
    "    if return_data is False:\n",
    "        try:\n",
    "            return np.average(all_toxicities)\n",
    "        except:\n",
    "            return 0\n",
    "    \n",
    "    try:\n",
    "        return np.average(all_toxicities), all_toxicities\n",
    "    except:\n",
    "        return 0, []"
   ]
  },
  {
   "cell_type": "code",
   "execution_count": 14,
   "metadata": {},
   "outputs": [],
   "source": [
    "def get_followers_avg_toxicity(username, num_tweets_per_follower, num_followers):\n",
    "    '''Wrapper function that just gets the toxicity score for a user's followers'''\n",
    "    tweets = get_followers_tweets(username, num_tweets_per_follower, num_followers=num_followers, progress=True)\n",
    "    return calculate_weighted_toxicity(tweets)"
   ]
  },
  {
   "cell_type": "code",
   "execution_count": 15,
   "metadata": {},
   "outputs": [],
   "source": [
    "def get_followers_toxicity(username, num_tweets_per_follower, num_followers, return_data=False):\n",
    "    tweets = get_followers_tweets(username, num_tweets_per_follower, num_followers=num_followers, progress=True)\n",
    "    avg_toxicity = calculate_weighted_toxicity(tweets, return_data=return_data)\n",
    "    user_toxicity = {}\n",
    "    for follower in tweets:\n",
    "        user_toxicity[follower] = calculate_weighted_toxicity({follower: tweets[follower]})\n",
    "    user_toxicity = dict(sorted(user_toxicity.items(), key=lambda item: item[1], reverse=True))\n",
    "    return user_toxicity, avg_toxicity"
   ]
  },
  {
   "cell_type": "code",
   "execution_count": 20,
   "metadata": {
    "scrolled": true
   },
   "outputs": [
    {
     "name": "stderr",
     "output_type": "stream",
     "text": [
      " 77%|███████▋  | 77/100 [00:20<00:05,  4.20it/s]"
     ]
    },
    {
     "name": "stdout",
     "output_type": "stream",
     "text": [
      "Unable to translate\n",
      "Unable to translate\n"
     ]
    },
    {
     "name": "stderr",
     "output_type": "stream",
     "text": [
      "100%|██████████| 100/100 [00:26<00:00,  3.83it/s]\n",
      " 48%|████▊     | 15/31 [00:00<00:00, 17.97it/s]\n",
      "ERROR:root:Internal Python error in the inspect module.\n",
      "Below is the traceback from this internal error.\n",
      "\n"
     ]
    },
    {
     "name": "stdout",
     "output_type": "stream",
     "text": [
      "Traceback (most recent call last):\n",
      "  File \"c:\\users\\rupei\\appdata\\local\\programs\\python\\python38\\lib\\site-packages\\IPython\\core\\interactiveshell.py\", line 3331, in run_code\n",
      "    exec(code_obj, self.user_global_ns, self.user_ns)\n",
      "  File \"<ipython-input-20-9e4f268dd979>\", line 2, in <module>\n",
      "    espn_followers_tox = get_followers_toxicity('ESPN', 10, 100)\n",
      "  File \"<ipython-input-19-67ae04c9c0d3>\", line 3, in get_followers_toxicity\n",
      "    avg_toxicity = calculate_weighted_toxicity(tweets, return_data=return_data)\n",
      "  File \"<ipython-input-17-12682243dc46>\", line 24, in calculate_weighted_toxicity\n",
      "    toxic_score, num_tweets = compute_toxicity_score(v, return_num_tweets=True)\n",
      "  File \"<ipython-input-15-dc175147cccc>\", line 11, in compute_toxicity_score\n",
      "    for response_class in response_classification(tweet):\n",
      "  File \"<ipython-input-8-3ff88c362a60>\", line 6, in response_classification\n",
      "    response = co.classify(\n",
      "  File \"c:\\users\\rupei\\appdata\\local\\programs\\python\\python38\\lib\\site-packages\\cohere\\client.py\", line 181, in classify\n",
      "    response = self.__request(json_body, cohere.CLASSIFY_URL)\n",
      "  File \"c:\\users\\rupei\\appdata\\local\\programs\\python\\python38\\lib\\site-packages\\cohere\\client.py\", line 284, in __request\n",
      "    response = requests.request('POST', url,\n",
      "  File \"c:\\users\\rupei\\appdata\\local\\programs\\python\\python38\\lib\\site-packages\\requests\\api.py\", line 59, in request\n",
      "    return session.request(method=method, url=url, **kwargs)\n",
      "  File \"c:\\users\\rupei\\appdata\\local\\programs\\python\\python38\\lib\\site-packages\\requests\\sessions.py\", line 587, in request\n",
      "    resp = self.send(prep, **send_kwargs)\n",
      "  File \"c:\\users\\rupei\\appdata\\local\\programs\\python\\python38\\lib\\site-packages\\requests\\sessions.py\", line 701, in send\n",
      "    r = adapter.send(request, **kwargs)\n",
      "  File \"c:\\users\\rupei\\appdata\\local\\programs\\python\\python38\\lib\\site-packages\\requests\\adapters.py\", line 489, in send\n",
      "    resp = conn.urlopen(\n",
      "  File \"C:\\Users\\rupei\\AppData\\Roaming\\Python\\Python38\\site-packages\\urllib3\\connectionpool.py\", line 670, in urlopen\n",
      "    httplib_response = self._make_request(\n",
      "  File \"C:\\Users\\rupei\\AppData\\Roaming\\Python\\Python38\\site-packages\\urllib3\\connectionpool.py\", line 426, in _make_request\n",
      "    six.raise_from(e, None)\n",
      "  File \"<string>\", line 3, in raise_from\n",
      "  File \"C:\\Users\\rupei\\AppData\\Roaming\\Python\\Python38\\site-packages\\urllib3\\connectionpool.py\", line 421, in _make_request\n",
      "    httplib_response = conn.getresponse()\n",
      "  File \"c:\\users\\rupei\\appdata\\local\\programs\\python\\python38\\lib\\http\\client.py\", line 1332, in getresponse\n",
      "    response.begin()\n",
      "  File \"c:\\users\\rupei\\appdata\\local\\programs\\python\\python38\\lib\\http\\client.py\", line 303, in begin\n",
      "    version, status, reason = self._read_status()\n",
      "  File \"c:\\users\\rupei\\appdata\\local\\programs\\python\\python38\\lib\\http\\client.py\", line 264, in _read_status\n",
      "    line = str(self.fp.readline(_MAXLINE + 1), \"iso-8859-1\")\n",
      "  File \"c:\\users\\rupei\\appdata\\local\\programs\\python\\python38\\lib\\socket.py\", line 669, in readinto\n",
      "    return self._sock.recv_into(b)\n",
      "  File \"c:\\users\\rupei\\appdata\\local\\programs\\python\\python38\\lib\\ssl.py\", line 1241, in recv_into\n",
      "    return self.read(nbytes, buffer)\n",
      "  File \"c:\\users\\rupei\\appdata\\local\\programs\\python\\python38\\lib\\ssl.py\", line 1099, in read\n",
      "    return self._sslobj.read(len, buffer)\n",
      "KeyboardInterrupt\n",
      "\n",
      "During handling of the above exception, another exception occurred:\n",
      "\n",
      "Traceback (most recent call last):\n",
      "  File \"c:\\users\\rupei\\appdata\\local\\programs\\python\\python38\\lib\\site-packages\\IPython\\core\\interactiveshell.py\", line 2044, in showtraceback\n",
      "    stb = value._render_traceback_()\n",
      "AttributeError: 'KeyboardInterrupt' object has no attribute '_render_traceback_'\n",
      "\n",
      "During handling of the above exception, another exception occurred:\n",
      "\n",
      "Traceback (most recent call last):\n",
      "  File \"c:\\users\\rupei\\appdata\\local\\programs\\python\\python38\\lib\\site-packages\\IPython\\core\\ultratb.py\", line 1148, in get_records\n",
      "    return _fixed_getinnerframes(etb, number_of_lines_of_context, tb_offset)\n",
      "  File \"c:\\users\\rupei\\appdata\\local\\programs\\python\\python38\\lib\\site-packages\\IPython\\core\\ultratb.py\", line 316, in wrapped\n",
      "    return f(*args, **kwargs)\n",
      "  File \"c:\\users\\rupei\\appdata\\local\\programs\\python\\python38\\lib\\site-packages\\IPython\\core\\ultratb.py\", line 350, in _fixed_getinnerframes\n",
      "    records = fix_frame_records_filenames(inspect.getinnerframes(etb, context))\n",
      "  File \"c:\\users\\rupei\\appdata\\local\\programs\\python\\python38\\lib\\inspect.py\", line 1503, in getinnerframes\n",
      "    frameinfo = (tb.tb_frame,) + getframeinfo(tb, context)\n",
      "  File \"c:\\users\\rupei\\appdata\\local\\programs\\python\\python38\\lib\\inspect.py\", line 1461, in getframeinfo\n",
      "    filename = getsourcefile(frame) or getfile(frame)\n",
      "  File \"c:\\users\\rupei\\appdata\\local\\programs\\python\\python38\\lib\\inspect.py\", line 708, in getsourcefile\n",
      "    if getattr(getmodule(object, filename), '__loader__', None) is not None:\n",
      "  File \"c:\\users\\rupei\\appdata\\local\\programs\\python\\python38\\lib\\inspect.py\", line 754, in getmodule\n",
      "    os.path.realpath(f)] = module.__name__\n",
      "  File \"c:\\users\\rupei\\appdata\\local\\programs\\python\\python38\\lib\\ntpath.py\", line 664, in realpath\n",
      "    if _getfinalpathname(spath) == path:\n",
      "KeyboardInterrupt\n"
     ]
    },
    {
     "ename": "KeyboardInterrupt",
     "evalue": "",
     "output_type": "error",
     "traceback": [
      "\u001b[1;31m---------------------------------------------------------------------------\u001b[0m"
     ]
    }
   ],
   "source": [
    "# this might take a while to run, if so, consider changing the num_followers from 100 to something smaller\n",
    "espn_followers_tox = get_followers_toxicity('ESPN', 10, 100)"
   ]
  },
  {
   "cell_type": "code",
   "execution_count": null,
   "metadata": {},
   "outputs": [],
   "source": [
    "# this cell seems to take a really long time to run... consider skipping it (this was just something cool I wanted to try)\n",
    "# get_followers_toxicity('cobraatateg', 10, 100)"
   ]
  },
  {
   "cell_type": "markdown",
   "metadata": {},
   "source": [
    "### Following (A lot of code is reused!)"
   ]
  },
  {
   "cell_type": "code",
   "execution_count": 16,
   "metadata": {},
   "outputs": [],
   "source": [
    "def get_following_avg_toxicity(username, num_tweets_per, num_following):\n",
    "    '''Wrapper function that just gets the toxicity score for a user's following. Note: there is a bug in this and the\n",
    "    follower wrapper. If somebody has no followers/following, it will throw a divide by 0 (I'll fix this later!)'''\n",
    "    tweets = get_following_tweets(username, num_tweets_per, num_following=num_following, progress=True)\n",
    "    return calculate_weighted_toxicity(tweets)"
   ]
  },
  {
   "cell_type": "code",
   "execution_count": 17,
   "metadata": {},
   "outputs": [],
   "source": [
    "def get_following_toxicity(username, num_tweets_per_follower, num_following, return_data=False):\n",
    "    tweets = get_following_tweets(username, num_tweets_per_follower, num_following=num_following, progress=True)\n",
    "    avg_toxicity = calculate_weighted_toxicity(tweets, return_data=return_data)\n",
    "    user_toxicity = {}\n",
    "    for following in tweets:\n",
    "        user_toxicity[following] = calculate_weighted_toxicity({following: tweets[following]})\n",
    "    user_toxicity = dict(sorted(user_toxicity.items(), key=lambda item: item[1], reverse=True))\n",
    "    return user_toxicity, avg_toxicity"
   ]
  },
  {
   "cell_type": "code",
   "execution_count": null,
   "metadata": {},
   "outputs": [],
   "source": [
    "espn_following_tox = get_following_toxicity('ESPN', 10, 100)"
   ]
  },
  {
   "cell_type": "code",
   "execution_count": 18,
   "metadata": {},
   "outputs": [],
   "source": [
    "# get toxicity score for a single user\n",
    "def get_user_toxicity(username, num_tweets_per):\n",
    "    tweets = {username: get_tweets(username, num_tweets_per)}\n",
    "    if tweets == {username: None}:\n",
    "        return -1\n",
    "    return calculate_weighted_toxicity(tweets)"
   ]
  },
  {
   "cell_type": "code",
   "execution_count": null,
   "metadata": {},
   "outputs": [],
   "source": [
    "get_following_toxicity('ESPN', 5, 5)"
   ]
  },
  {
   "cell_type": "code",
   "execution_count": null,
   "metadata": {},
   "outputs": [],
   "source": [
    "get_followers_toxicity('ESPN', 5, 5)"
   ]
  },
  {
   "cell_type": "code",
   "execution_count": null,
   "metadata": {},
   "outputs": [],
   "source": [
    "get_user_toxicity('RoyZ1017', 5)"
   ]
  },
  {
   "cell_type": "markdown",
   "metadata": {},
   "source": [
    "### Statistical Inference\n",
    "\n",
    "Step 1: With given information, calculate the confidence bounds (number for true level of toxicity)\n",
    "\n",
    "Step 2: With given information, graph the Bayesian posterior"
   ]
  },
  {
   "cell_type": "code",
   "execution_count": 32,
   "metadata": {
    "scrolled": true
   },
   "outputs": [
    {
     "name": "stderr",
     "output_type": "stream",
     "text": [
      "100%|██████████| 100/100 [00:42<00:00,  2.33it/s]\n",
      "100%|██████████| 100/100 [01:15<00:00,  1.32it/s]\n",
      "100%|██████████| 1/1 [00:00<?, ?it/s]\n",
      "100%|██████████| 1/1 [00:00<00:00, 1004.38it/s]\n",
      "100%|██████████| 1/1 [00:00<?, ?it/s]\n",
      "100%|██████████| 1/1 [00:00<?, ?it/s]\n",
      "100%|██████████| 1/1 [00:00<?, ?it/s]\n",
      "100%|██████████| 1/1 [00:00<?, ?it/s]\n",
      "100%|██████████| 1/1 [00:00<?, ?it/s]\n",
      "100%|██████████| 1/1 [00:00<?, ?it/s]\n",
      "100%|██████████| 1/1 [00:00<?, ?it/s]\n",
      "100%|██████████| 1/1 [00:00<?, ?it/s]\n",
      "100%|██████████| 1/1 [00:00<?, ?it/s]\n",
      "100%|██████████| 1/1 [00:00<?, ?it/s]\n",
      "100%|██████████| 1/1 [00:00<?, ?it/s]\n",
      "100%|██████████| 1/1 [00:00<00:00,  1.09it/s]\n",
      "100%|██████████| 1/1 [00:00<?, ?it/s]\n",
      "100%|██████████| 1/1 [00:00<?, ?it/s]\n",
      "100%|██████████| 1/1 [00:00<?, ?it/s]\n",
      "100%|██████████| 1/1 [00:01<00:00,  1.87s/it]\n",
      "100%|██████████| 1/1 [00:00<?, ?it/s]\n",
      "100%|██████████| 1/1 [00:00<?, ?it/s]\n",
      "100%|██████████| 1/1 [00:00<?, ?it/s]\n",
      "100%|██████████| 1/1 [00:00<?, ?it/s]\n",
      "100%|██████████| 1/1 [00:00<?, ?it/s]\n",
      "100%|██████████| 1/1 [00:00<?, ?it/s]\n",
      "100%|██████████| 1/1 [00:00<?, ?it/s]\n",
      "100%|██████████| 1/1 [00:00<?, ?it/s]\n",
      "100%|██████████| 1/1 [00:00<?, ?it/s]\n",
      "100%|██████████| 1/1 [00:00<?, ?it/s]\n",
      "100%|██████████| 1/1 [00:00<?, ?it/s]\n",
      "100%|██████████| 1/1 [00:08<00:00,  8.42s/it]\n",
      "100%|██████████| 1/1 [00:00<?, ?it/s]\n",
      "100%|██████████| 1/1 [00:00<?, ?it/s]\n",
      "100%|██████████| 1/1 [00:00<?, ?it/s]\n",
      "100%|██████████| 1/1 [00:00<?, ?it/s]\n",
      "100%|██████████| 1/1 [00:00<?, ?it/s]\n",
      "100%|██████████| 1/1 [00:00<?, ?it/s]\n",
      "100%|██████████| 1/1 [00:00<?, ?it/s]\n",
      "100%|██████████| 1/1 [00:00<00:00, 1003.42it/s]\n",
      "100%|██████████| 1/1 [00:00<00:00,  1.04it/s]\n",
      "100%|██████████| 1/1 [00:00<?, ?it/s]\n",
      "100%|██████████| 1/1 [00:00<?, ?it/s]\n",
      "100%|██████████| 1/1 [00:00<?, ?it/s]\n",
      "100%|██████████| 1/1 [00:00<?, ?it/s]\n",
      "100%|██████████| 1/1 [00:00<?, ?it/s]\n",
      "100%|██████████| 1/1 [00:00<?, ?it/s]\n",
      "100%|██████████| 1/1 [00:00<?, ?it/s]\n",
      "100%|██████████| 1/1 [00:03<00:00,  3.18s/it]\n",
      "100%|██████████| 1/1 [00:00<?, ?it/s]\n",
      "100%|██████████| 1/1 [00:04<00:00,  4.91s/it]\n",
      "100%|██████████| 1/1 [00:00<?, ?it/s]\n",
      "100%|██████████| 1/1 [00:00<?, ?it/s]\n",
      "100%|██████████| 1/1 [00:00<?, ?it/s]\n",
      "100%|██████████| 1/1 [00:03<00:00,  3.04s/it]\n",
      "100%|██████████| 1/1 [00:00<?, ?it/s]\n",
      "100%|██████████| 1/1 [00:00<?, ?it/s]\n",
      "100%|██████████| 1/1 [00:00<?, ?it/s]\n",
      "100%|██████████| 1/1 [00:00<00:00,  1.14it/s]\n",
      "100%|██████████| 1/1 [00:00<?, ?it/s]\n",
      "100%|██████████| 1/1 [00:08<00:00,  8.31s/it]\n",
      "100%|██████████| 1/1 [00:07<00:00,  7.38s/it]\n",
      "100%|██████████| 1/1 [00:00<?, ?it/s]\n",
      "100%|██████████| 1/1 [00:00<?, ?it/s]\n",
      "100%|██████████| 1/1 [00:02<00:00,  2.84s/it]\n",
      "100%|██████████| 1/1 [00:00<00:00, 1008.25it/s]\n",
      "100%|██████████| 1/1 [00:00<?, ?it/s]\n",
      "100%|██████████| 1/1 [00:00<00:00, 1002.22it/s]\n",
      "100%|██████████| 1/1 [00:07<00:00,  7.14s/it]\n",
      "100%|██████████| 1/1 [00:00<?, ?it/s]\n",
      "100%|██████████| 1/1 [00:00<?, ?it/s]\n",
      "100%|██████████| 1/1 [00:00<?, ?it/s]\n",
      "100%|██████████| 1/1 [00:06<00:00,  6.71s/it]\n",
      "100%|██████████| 1/1 [00:00<?, ?it/s]\n",
      "100%|██████████| 1/1 [00:04<00:00,  4.49s/it]\n",
      "100%|██████████| 1/1 [00:00<?, ?it/s]\n",
      "100%|██████████| 1/1 [00:00<?, ?it/s]\n",
      "100%|██████████| 1/1 [00:00<?, ?it/s]\n",
      "100%|██████████| 1/1 [00:00<?, ?it/s]\n",
      "100%|██████████| 1/1 [00:01<00:00,  1.04s/it]\n",
      "100%|██████████| 1/1 [00:00<00:00,  1.06it/s]\n",
      "100%|██████████| 1/1 [00:00<?, ?it/s]\n",
      "100%|██████████| 1/1 [00:00<?, ?it/s]\n",
      "100%|██████████| 1/1 [00:00<00:00,  1.08it/s]\n",
      "100%|██████████| 1/1 [00:00<?, ?it/s]\n",
      "100%|██████████| 1/1 [00:00<?, ?it/s]\n",
      "100%|██████████| 1/1 [00:00<?, ?it/s]\n",
      "100%|██████████| 1/1 [00:00<00:00, 1005.35it/s]\n",
      "100%|██████████| 1/1 [00:03<00:00,  3.86s/it]\n",
      "100%|██████████| 1/1 [00:00<00:00, 1003.42it/s]\n",
      "100%|██████████| 1/1 [00:00<00:00, 1002.46it/s]\n",
      "100%|██████████| 1/1 [00:00<?, ?it/s]\n",
      "100%|██████████| 1/1 [00:00<?, ?it/s]\n",
      "100%|██████████| 1/1 [00:00<?, ?it/s]\n",
      "100%|██████████| 1/1 [00:00<?, ?it/s]\n",
      "100%|██████████| 1/1 [00:00<?, ?it/s]\n",
      "100%|██████████| 1/1 [00:00<?, ?it/s]\n",
      "100%|██████████| 1/1 [00:00<00:00,  1.27it/s]\n",
      "100%|██████████| 1/1 [00:00<?, ?it/s]\n",
      "100%|██████████| 1/1 [00:05<00:00,  5.86s/it]\n",
      "100%|██████████| 1/1 [00:00<?, ?it/s]\n",
      "100%|██████████| 1/1 [00:00<?, ?it/s]\n"
     ]
    }
   ],
   "source": [
    "espn_followers_tox = get_followers_toxicity('ESPN', 10, 100, return_data=True)"
   ]
  },
  {
   "cell_type": "code",
   "execution_count": 20,
   "metadata": {},
   "outputs": [
    {
     "data": {
      "text/plain": [
       "({'bentmcnugget': 1.0,\n",
       "  'kissureal': 0.7777777777777778,\n",
       "  'LudlowBrennon': 0,\n",
       "  'Adamnothing5': 0,\n",
       "  'NewZiadAhmed': 0,\n",
       "  'Faisalk62729931': 0,\n",
       "  'Black_Beard_01': 0,\n",
       "  'Diablo848546191': 0,\n",
       "  'BlancaC93725664': 0,\n",
       "  'NateAle21': 0,\n",
       "  'CoreyWa29482397': 0,\n",
       "  'janghoj68957046': 0,\n",
       "  'MentusObasi': 0,\n",
       "  'ogjpuigepoep': 0,\n",
       "  'Helmyfloyd81': 0,\n",
       "  'ligayaparsons1': 0,\n",
       "  'tylercolew84': 0,\n",
       "  'zhongqinglvmao': 0,\n",
       "  'samakood': 0,\n",
       "  'ofifif16': 0,\n",
       "  'MdKhors82723622': 0,\n",
       "  'jidaidinzhen': 0,\n",
       "  'B8llHellen': 0,\n",
       "  'JAdonte55': 0,\n",
       "  'bryan_borbas': 0,\n",
       "  'Jacob10719691': 0,\n",
       "  'BkFeria': 0,\n",
       "  'LamarWa52': 0,\n",
       "  'yaokil': 0,\n",
       "  'ItachiU08615598': 0,\n",
       "  'CalebAkin6': 0,\n",
       "  'xdrcod': 0,\n",
       "  'A1809dama': 0,\n",
       "  'Joeysmith221087': 0,\n",
       "  'Joker2318571636': 0,\n",
       "  'Lengko1Silfanus': 0,\n",
       "  'OmbeniPacifiqu1': 0,\n",
       "  'Nazaren85840222': 0,\n",
       "  'pierremcdowell7': 0,\n",
       "  'Dilwale143528': 0.0,\n",
       "  'AngelCa91553438': 0,\n",
       "  'SMacintosch': 0,\n",
       "  'aleekha40769406': 0,\n",
       "  'Yk_Mil3s': 0,\n",
       "  'zohaib_raja1122': 0,\n",
       "  'IssaPlato': 0,\n",
       "  'nickkieia': 0,\n",
       "  'Awezomezauce11': 0,\n",
       "  'TzSanju': 0,\n",
       "  'fosu_jeremiah': 0,\n",
       "  'RaghuValia': 0,\n",
       "  'Erdal96744933': 0,\n",
       "  'csrj98250312': 0,\n",
       "  'QAnh293': 0,\n",
       "  'brhym34727394': 0,\n",
       "  'ParisSm03503584': 0,\n",
       "  '7QYGB67SA3mtf7v': 0,\n",
       "  'Cain28223197': 0,\n",
       "  'mike410591701': 0,\n",
       "  'GiorgiMaisa1992': 0,\n",
       "  'AlexiRobalino1': 0,\n",
       "  'quoctrung260680': 0,\n",
       "  'John11377596': 0,\n",
       "  'Walter79522376': 0,\n",
       "  'CarterKohen': 0,\n",
       "  'wakanafgngmama1': 0.0,\n",
       "  'ara47904482': 0,\n",
       "  'Brandon40934156': 0.0,\n",
       "  'az24557702': 0,\n",
       "  'EvanOls31297408': 0,\n",
       "  'YussufH34944317': 0,\n",
       "  'Basebal44291738': 0,\n",
       "  'richdonyea': 0,\n",
       "  'Tejas81038532': 0,\n",
       "  'DJrhakho': 0,\n",
       "  'Josh30382770': 0,\n",
       "  'eeeeswp': 0,\n",
       "  'fghhfg57227401': 0,\n",
       "  'rezkiddd': 0,\n",
       "  'Antonio26241834': 0,\n",
       "  'SvihraB': 0,\n",
       "  'Billyboynabi': 0.0,\n",
       "  'EVG_R3DD': 0,\n",
       "  'Ad4l22': 0.0,\n",
       "  'StaceyBenciven1': 0.0,\n",
       "  'goatedturtle': 0,\n",
       "  'AnaSilv04607902': 0,\n",
       "  'ihesiaba_uche': 0,\n",
       "  'Nzil6Nzilani': 0,\n",
       "  'CahoonKarlee': 0,\n",
       "  'marcelotoasa3': 0,\n",
       "  'jasonkillian2B': 0,\n",
       "  'DonsLuke': 0,\n",
       "  'UuHexnfW6vpjW9P': 0,\n",
       "  'HexiV757': 0,\n",
       "  'ma44432055': 0,\n",
       "  'trmfb002': 0,\n",
       "  'mfleming001': 0,\n",
       "  'Leduc198080': 0,\n",
       "  'ZainabA57971324': 0},\n",
       " (0.2222222222222222,\n",
       "  [0.0,\n",
       "   0.0,\n",
       "   0.0,\n",
       "   0.0,\n",
       "   0.0,\n",
       "   0.0,\n",
       "   0.0,\n",
       "   0.0,\n",
       "   0.0,\n",
       "   0.0,\n",
       "   0.0,\n",
       "   0.0,\n",
       "   0.0,\n",
       "   1.0,\n",
       "   0.0,\n",
       "   0.0,\n",
       "   0.0,\n",
       "   0.0,\n",
       "   0.0,\n",
       "   0.0,\n",
       "   0.0,\n",
       "   0.0,\n",
       "   0.0,\n",
       "   0.7777777777777778,\n",
       "   0.7777777777777778,\n",
       "   0.7777777777777778,\n",
       "   0.7777777777777778,\n",
       "   0.7777777777777778,\n",
       "   0.7777777777777778,\n",
       "   0.7777777777777778,\n",
       "   0.7777777777777778,\n",
       "   0.7777777777777778,\n",
       "   0.0,\n",
       "   0.0,\n",
       "   0.0,\n",
       "   0.0]))"
      ]
     },
     "execution_count": 20,
     "metadata": {},
     "output_type": "execute_result"
    }
   ],
   "source": [
    "espn_followers_tox"
   ]
  },
  {
   "cell_type": "code",
   "execution_count": 33,
   "metadata": {
    "scrolled": false
   },
   "outputs": [],
   "source": [
    "espn_followers_dict, (espn_followers_tox_val, espn_followers_vals) = espn_followers_tox"
   ]
  },
  {
   "cell_type": "code",
   "execution_count": 34,
   "metadata": {},
   "outputs": [],
   "source": [
    "import scipy.stats as st\n",
    "\n",
    "def calculate_toxicity_ci(toxicities, confidence=0.95):\n",
    "    # followers_val is the list of all toxicities (i.e [0.5, 0.5])\n",
    "    # NOTE: this creates a confidence interval\n",
    "    return st.t.interval(\n",
    "        alpha=confidence,\n",
    "        df=len(toxicities) - 1,\n",
    "        loc=np.mean(toxicities),\n",
    "        scale=st.sem(toxicities))"
   ]
  },
  {
   "cell_type": "code",
   "execution_count": 35,
   "metadata": {},
   "outputs": [
    {
     "data": {
      "text/plain": [
       "(0.21870175892703558, 0.3378199802033992)"
      ]
     },
     "execution_count": 35,
     "metadata": {},
     "output_type": "execute_result"
    }
   ],
   "source": [
    "calculate_toxicity_ci(espn_followers_vals, confidence=0.95)"
   ]
  },
  {
   "cell_type": "code",
   "execution_count": 36,
   "metadata": {},
   "outputs": [],
   "source": [
    "from scipy.stats import binom\n",
    "import seaborn as sns\n",
    "import matplotlib.pyplot as plt\n",
    "\n",
    "def calculate_bayesian_posterior(toxicities, target_score, prior='uniform'):\n",
    "    num_toxic = np.arange(0, len(toxicities) + 1, 1)\n",
    "    toxic_score = np.arange(0, 1.01, 0.01)\n",
    "    toxic_df = pd.DataFrame([(x, y) for x in num_toxic for y in toxic_score])\n",
    "    toxic_df.columns = ['num_toxic', 'toxic_score']\n",
    "    \n",
    "    if prior == 'uniform':\n",
    "        toxic_df['prior'] = 1\n",
    "    else:\n",
    "        raise ValueError\n",
    "    \n",
    "    toxic_df['likelihood'] = binom.pmf(toxic_df.num_toxic, len(toxicities), toxic_df.toxic_score)\n",
    "    toxic_df['posterior_prob'] = toxic_df.prior * toxic_df.likelihood\n",
    "    toxic_df.posterior_prob /= toxic_df.posterior_prob.sum()\n",
    "    \n",
    "    implied_num_toxic = round(target_score * len(toxicities))\n",
    "    toxic_df_w_score = toxic_df[toxic_df['num_toxic'] == implied_num_toxic]\n",
    "    sns.lineplot(toxic_df_w_score.toxic_score, toxic_df_w_score.posterior_prob)\n",
    "    plt.title(\"Posterior Probability for Toxicity Score of {}\".format(round(target_score, 2)))\n",
    "    plt.xlabel(\"Toxic Score\")\n",
    "    plt.ylabel(\"Posterior Probability\")\n",
    "    plt.show();\n",
    "    \n",
    "    return toxic_df_w_score"
   ]
  },
  {
   "cell_type": "code",
   "execution_count": 37,
   "metadata": {},
   "outputs": [
    {
     "data": {
      "image/png": "[encoded data removed]",
      "text/plain": [
       "<Figure size 432x288 with 1 Axes>"
      ]
     },
     "metadata": {
      "needs_background": "light"
     },
     "output_type": "display_data"
    }
   ],
   "source": [
    "df = calculate_bayesian_posterior(espn_followers_vals, espn_followers_tox_val)"
   ]
  },
  {
   "cell_type": "markdown",
   "metadata": {},
   "source": [
    "### Twilio API Endpoint\n",
    "\n",
    "\n",
    "A couple of notes:\n",
    "\n",
    "1. the from phone number has to be the number below\n",
    "2. the to phone number has to be my phone number (the one below)\n",
    "\n",
    "Hence, it can be hard to test this. I'll make this work with our project but for now it seems like maybe we'll just use Twilio to send a text notification if they're talking to somebody Toxic"
   ]
  },
  {
   "cell_type": "code",
   "execution_count": 21,
   "metadata": {},
   "outputs": [
    {
     "name": "stdout",
     "output_type": "stream",
     "text": [
      "SMe8225db5f2ad26a140e9d926ecb1840c\n"
     ]
    }
   ],
   "source": [
    "# NOTE: this is all starter code from https://www.twilio.com/docs/sms/quickstart/python\n",
    "\n",
    "# Download the helper library from https://www.twilio.com/docs/python/install\n",
    "import os\n",
    "from twilio.rest import Client\n",
    "\n",
    "\n",
    "# Find your Account SID and Auth Token at twilio.com/console\n",
    "# and set the environment variables. See http://twil.io/secure\n",
    "account_sid = placeholder_key\n",
    "auth_token = placeholder_key\n",
    "client = Client(account_sid, auth_token)\n",
    "\n",
    "message = client.messages \\\n",
    "                .create(\n",
    "                     body=\"You are Toxic!\",\n",
    "                     from_='+18573922329',  # this is a test Twilio phone number\n",
    "                     to='+15109449884'\n",
    "                 )\n",
    "\n",
    "print(message.sid)"
   ]
  },
  {
   "cell_type": "code",
   "execution_count": 22,
   "metadata": {},
   "outputs": [],
   "source": [
    "def send_twilio_alert(to, message):\n",
    "    account_sid = placeholder_key\n",
    "    auth_token = placeholder_key\n",
    "    client = Client(account_sid, auth_token)\n",
    "    message = client.messages \\\n",
    "                .create(\n",
    "                     body=message,\n",
    "                     from_='+18573922329',  # this is a test Twilio phone number\n",
    "                     to=to\n",
    "                 )\n",
    "    return message.sid"
   ]
  },
  {
   "cell_type": "code",
   "execution_count": null,
   "metadata": {},
   "outputs": [],
   "source": [
    "response_classification('👏')"
   ]
  },
  {
   "cell_type": "markdown",
   "metadata": {},
   "source": [
    "# UI"
   ]
  },
  {
   "cell_type": "code",
   "execution_count": 23,
   "metadata": {},
   "outputs": [],
   "source": [
    "import tkinter as tk\n",
    "from PIL import ImageTk, Image\n",
    "from tkinter import filedialog as fd\n",
    "import threading"
   ]
  },
  {
   "cell_type": "code",
   "execution_count": 24,
   "metadata": {},
   "outputs": [],
   "source": [
    "# list of phone numbers of people who want to be notified\n",
    "twilio_numbers = {}"
   ]
  },
  {
   "cell_type": "code",
   "execution_count": 25,
   "metadata": {},
   "outputs": [],
   "source": [
    "def get_text_toxicity(filepath):\n",
    "    '''Defines the toxicity of users in the `filepath` conversation using a simple average of sentiment.\n",
    "    The average is binary (1 being completely toxic and 0 being completely not toxic), computed over\n",
    "    individual sentiment classifications (1 is negative, 0 is positive). For example, 2 negatives and 1\n",
    "    positive phrase would result in 2/3 = 0.67\n",
    "    \n",
    "    The return type is a dictionary with {key: value} pair being {name_of_person: toxicity_level}'''\n",
    "    conversation_classification = classify_conversation(filepath)\n",
    "    for k, v in conversation_classification.items():\n",
    "        toxicity_score = np.average([1 if sentiment == 'Negative' else 0 for sentiment in v])\n",
    "        conversation_classification[k] = toxicity_score\n",
    "    clear()\n",
    "    header = tk.Label(root, text=f'Toxicity Assessement:', font=('lucida 16 italic'))\n",
    "    header.place(relx=0.325, rely=0.5)\n",
    "    for idx, user in enumerate(conversation_classification):\n",
    "        user_score = tk.Label(root, text=f'{user} Toxicity: {round(conversation_classification[user], 2)}', \n",
    "                              font=('lucida 16 italic'), fg=get_colour(conversation_classification[user]))\n",
    "        user_score.place(relx=0.325, rely=0.55 + 0.05 * idx)"
   ]
  },
  {
   "cell_type": "code",
   "execution_count": 26,
   "metadata": {},
   "outputs": [],
   "source": [
    "def open_about_page():\n",
    "    global root\n",
    "    for widgets in root.winfo_children():\n",
    "        widgets.destroy()\n",
    "    title_label = tk.Label(root, text='Toxic (A Hack 6 Project)', font=('Times New Roman', 30))\n",
    "    title_label.pack(pady=80)\n",
    "    \n",
    "    author_label = tk.Label(root, text='By: Roy Zhang & Ru Pei', font=('Times New Roman', 14))\n",
    "    author_label.place(relx=0.425, rely=0.2)\n",
    "    \n",
    "    header_label = tk.Label(root, text='Instructions:', font=('Times New Roman', 18))\n",
    "    header_label.place(relx=0.45, rely=0.25)\n",
    "    \n",
    "    instructions_text = tk.Text(bd=0, bg='#f2f2f2', height=15, width=100, font=('Times New Roman', 12))\n",
    "    instructions_text.insert(tk.INSERT, \n",
    "                            '''\n",
    "                            The premise of this program is to find the toxicity score of different users on social\n",
    "                            media based on their past posts. Using this program you can perform the following actions:\n",
    "                            \n",
    "                            - Type in a user's Twitter username to find their, their followers, and the toxicity score of the\n",
    "                            people they're following\n",
    "                            - Click the more details button after searching a user to get an in depth analysis on their\n",
    "                            toxicity score\n",
    "                            - Upload a txt file containing a conversation to get the toxicity score of each person present in\n",
    "                            that conversation\n",
    "                            - Click the notify button to get a SMS message if the user, the user's followers, or user's\n",
    "                            following is being toxic''')\n",
    "    \n",
    "    instructions_text.place(relx=0.20, rely=0.3)\n",
    "    instructions_text.config(state='disabled')\n",
    "    \n",
    "    back_button = tk.Button(root, text=\"Back to Main Page\", bd=1, command=clear)\n",
    "    back_button.place(relx=0.45, rely=0.65)\n",
    "    \n",
    "\n",
    "def alert_thread():\n",
    "    thread = threading.Thread(target=alerts)\n",
    "    thread.start()\n",
    "\n",
    "def alerts():\n",
    "    global twilio_numbers\n",
    "    print(twilio_numbers)\n",
    "    for user in twilio_numbers:\n",
    "        user_toxicity = get_user_toxicity(user, 5)\n",
    "        _, follower_toxicity_score = get_followers_toxicity(user, 5, 5)\n",
    "        _, following_toxicity_score = get_following_toxicity(user, 5, 5)\n",
    "        if user_toxicity >= 0.8:\n",
    "            for number in twilio_numbers[user]:\n",
    "                send_twilio_alert(number, 'You Are Being Toxic!')\n",
    "        \n",
    "        if follower_toxicity_score >= 0.8:\n",
    "            for number in twilio_numbers[user]:\n",
    "                send_twilio_alert(number, 'High Follower Toxicity!')\n",
    "                \n",
    "        elif following_toxicity_score >= 0.8:\n",
    "            for number in twilio_numbers[user]:\n",
    "                send_twilio_alert(number, 'High Following Toxicity!')\n",
    "    twilio_numbers = {}\n",
    "    \n",
    "def get_colour(score):\n",
    "    if score == 0:\n",
    "        return '#009933'\n",
    "    elif 0 <= score < 0.2:\n",
    "        return '#80ff00'\n",
    "    elif 0.2 <= score < 0.4:\n",
    "        return '#ffcc00'\n",
    "    elif 0.4 <= score < 0.6:\n",
    "        return '#ff6600'\n",
    "    elif 0.6 <= score < 0.8:\n",
    "        return '#ff3300'\n",
    "    else:\n",
    "        return '#990000'\n",
    "\n",
    "def add_number():\n",
    "    global twilio_numbers\n",
    "    if curr_user in twilio_numbers:\n",
    "        twilio_numbers[curr_user].append(str(phone_number_box.get()))\n",
    "    else:\n",
    "        twilio_numbers[curr_user] = [str(phone_number_box.get())]\n",
    "    \n",
    "    output_box2 = tk.Text(root, height=1, width=50, bg='#f2f2f2', bd=0)\n",
    "    output_box2.insert(tk.INSERT, \"Phone number added!\")\n",
    "    output_box2.config(state=\"disabled\")\n",
    "    output_box2.place(relx=0.1, rely=0.9)\n",
    "    alert_thread()\n",
    "    \n",
    "\n",
    "def gui_notify_user():\n",
    "    global phone_number_box\n",
    "    phone_label = tk.Label(root, text='Please Enter Your Phone #', font=('lucida 14 italic'))\n",
    "    phone_label.place(relx=0.1, rely=0.8)\n",
    "    \n",
    "    phone_number_box = tk.Entry(root, font=('lucida 12 italic'))\n",
    "    phone_number_box.place(relx=0.1, rely=0.85)\n",
    "    \n",
    "    phone_number_button = tk.Button(root, text=\"Notify\", bd=1, command=add_number)\n",
    "    phone_number_button.place(relx=0.225, rely=0.85)\n",
    "\n",
    "def more_detailed():\n",
    "    global output_box\n",
    "    output_box.config(state=\"normal\", fg='black')\n",
    "    output_box.delete(0.0, \"end\")\n",
    "    output_box.insert(tk.INSERT, \"loading...\")\n",
    "    output_box.config(state=\"disabled\")\n",
    "    thread = threading.Thread(target=more_detailed_helper)\n",
    "    thread.start()\n",
    "\n",
    "def more_detailed_helper():\n",
    "    gui_get_users(num_tweets=10, num_people=10)\n",
    "\n",
    "def gui_get_users(num_tweets=5, num_people=5):\n",
    "    global output_box, root, curr_user\n",
    "    curr_user = str(searchbox.get())\n",
    "    user_toxicity = get_user_toxicity(curr_user, num_tweets)\n",
    "    if user_toxicity == -1:\n",
    "        output_box.config(state=\"normal\", fg='red')\n",
    "        output_box.delete(0.0, \"end\")\n",
    "        output_box.insert(tk.INSERT, \"Invalid User\")\n",
    "        output_box.config(state=\"disabled\")\n",
    "    else:\n",
    "        followers, follower_avg_toxicity = get_followers_toxicity(curr_user, num_tweets, num_people)\n",
    "        following, following_avg_toxicity = get_following_toxicity(curr_user, num_tweets, num_people)\n",
    "        clear()\n",
    "\n",
    "        username_label = tk.Label(root, text=f'User: {curr_user}', font=('lucida 16 italic'))\n",
    "        username_label.place(relx=0.1, rely=0.5)\n",
    "        \n",
    "        toxicity_score_label = tk.Label(root, text=f'Toxicity Score: {round(user_toxicity, 2)}', font=('lucida 16 italic'), \n",
    "                                        fg=get_colour(user_toxicity))\n",
    "        toxicity_score_label.place(relx=0.1, rely=0.55)\n",
    "        \n",
    "        notify_user_button = tk.Button(root, text=\"Notify of potentially \\n harmful toxicity\", bd=0, command=gui_notify_user, \n",
    "                                       height=3, width=15, bg=\"#66c2ff\", fg=\"white\", font=('lucida 12 bold italic'))\n",
    "        notify_user_button.place(relx=0.105, rely=0.7)\n",
    "        \n",
    "        follower_header = tk.Label(root, text='Follower Toxicity:', font=('lucida 16 italic'))\n",
    "        follower_header.place(relx=0.325, rely=0.5)\n",
    "        \n",
    "        following_header = tk.Label(root, text='Following Toxicity:', font=('lucida 16 italic'))\n",
    "        following_header.place(relx=0.625, rely=0.5)\n",
    "        \n",
    "        for idx, user in enumerate(followers):\n",
    "            if idx > 5:\n",
    "                break\n",
    "            follower_label = tk.Label(root, text=f'{user} {round(followers[user], 2)}', font=('lucida 16 italic'), \n",
    "                                      fg=get_colour(followers[user]))\n",
    "            follower_label.place(relx=0.325, rely=0.55 + 0.05 * idx)\n",
    "        \n",
    "        for idx, user in enumerate(following):\n",
    "            if idx > 5:\n",
    "                break\n",
    "            following_label = tk.Label(root, text=f'{user} {round(following[user], 2)}', font=('lucida 16 italic'), \n",
    "                                       fg=get_colour(following[user]))\n",
    "            following_label.place(relx=0.625, rely=0.55 + 0.05 * idx)\n",
    "        \n",
    "        follower_avg = tk.Label(root, text=f'Average Toxicity: {round(follower_avg_toxicity, 2)}', font=('lucida 16 italic'), \n",
    "                                fg=get_colour(follower_avg_toxicity))\n",
    "        follower_avg.place(relx=0.325, rely=0.6 + 0.05 * len(followers))\n",
    "        \n",
    "        following_avg = tk.Label(root, text=f'Average Toxicity: {round(following_avg_toxicity, 2)}', font=('lucida 16 italic'),\n",
    "                                fg=get_colour(follower_avg_toxicity))\n",
    "        following_avg.place(relx=0.625, rely=0.6 + 0.05 * len(following))\n",
    "        \n",
    "        more_detailed_button = tk.Button(root, text=\"More detailed Analysis\", bd=1, command=more_detailed, \n",
    "                                         font=('lucida 12 bold italic'))\n",
    "        more_detailed_button.place(relx=0.10, rely=0.6)\n",
    "\n",
    "\n",
    "def get_txt():\n",
    "    global root\n",
    "    filetypes = (\n",
    "        ('text files', '*.txt'),\n",
    "        ('All files', '*.*')\n",
    "    )\n",
    "    filename = fd.askopenfilename(\n",
    "        title='Select Conversation',\n",
    "        initialdir='/',\n",
    "        filetypes=filetypes)\n",
    "    txt_gui(filename)\n",
    "\n",
    "def txt_gui(filename):\n",
    "    if not filename:\n",
    "        return None\n",
    "    txt_thread(filename)\n",
    "    \n",
    "\n",
    "def txt_thread(filename):\n",
    "    global output_box\n",
    "    output_box.config(state=\"normal\", fg='black')\n",
    "    output_box.delete(0.0, \"end\")\n",
    "    output_box.insert(tk.INSERT, \"loading...\")\n",
    "    output_box.config(state=\"disabled\")\n",
    "    output_box.place(relx=0.325, rely=0.46)\n",
    "    thread = threading.Thread(target=get_text_toxicity(filename))\n",
    "    thread.start()\n",
    "    \n",
    "\n",
    "def get_users_thread():\n",
    "    global output_box\n",
    "    output_box.config(state=\"normal\", fg='black')\n",
    "    output_box.delete(0.0, \"end\")\n",
    "    output_box.insert(tk.INSERT, \"loading...\")\n",
    "    output_box.config(state=\"disabled\")\n",
    "    output_box.place(relx=0.27, rely=0.46)\n",
    "    thread = threading.Thread(target=gui_get_users)\n",
    "    thread.start()\n",
    "\n",
    "def clear():\n",
    "    global root\n",
    "    for widgets in root.winfo_children():\n",
    "        widgets.destroy()\n",
    "    reset()\n",
    "\n",
    "\n",
    "def reset():\n",
    "    global searchbox, output_box, root, logo_image\n",
    "    \n",
    "    title_label = tk.Label(root, text='Toxic (A Hack 6 Project)', font=('Times New Roman', 28))\n",
    "    title_label.pack(pady=80)\n",
    "\n",
    "    logo = Image.open('logo.png')\n",
    "    logo_image = logo.resize((275, 125))\n",
    "    logo_image = ImageTk.PhotoImage(logo_image)\n",
    "    \n",
    "    logo_label = tk.Label(root, image = logo_image)\n",
    "    logo_label.place(relx=0.41, rely=0.19)\n",
    "    \n",
    "    search_label = tk.Label(root, text='Search User:', font=('Arial', 18))\n",
    "    search_label.place(relx=0.42, rely=0.375)\n",
    "\n",
    "    searchbox = tk.Entry(root, font=('Arial', 12), width=50)\n",
    "    searchbox.place(relx=0.27, rely=0.425)\n",
    "\n",
    "    search_button = tk.Button(root, text=\"Search\", bd=1, command=get_users_thread)\n",
    "    search_button.place(relx=0.63, rely=0.425)\n",
    "    \n",
    "    upload_txt = tk.Button(root, text=\"Upload\", bd=1, command=get_txt)\n",
    "    upload_txt.place(relx=0.67, rely=0.425)\n",
    "\n",
    "    output_box = tk.Text(root, height=1, width=50, bg='#f2f2f2', bd=0)\n",
    "    output_box.place(relx=0.325, rely=0.46)\n",
    "    output_box.config(state=\"disabled\")\n",
    "    \n",
    "    about_button = tk.Button(root, text=\"About\", bd=1, command=open_about_page)\n",
    "    about_button.place(relx=0.715, rely=0.425)\n",
    "    \n",
    "#     root.after(2000, alert_thread)\n"
   ]
  },
  {
   "cell_type": "code",
   "execution_count": 43,
   "metadata": {},
   "outputs": [
    {
     "name": "stderr",
     "output_type": "stream",
     "text": [
      "100%|██████████| 1/1 [00:01<00:00,  1.51s/it]\n",
      "100%|██████████| 5/5 [00:01<00:00,  2.52it/s]\n",
      "100%|██████████| 5/5 [00:03<00:00,  1.58it/s]\n",
      "100%|██████████| 1/1 [00:00<00:00, 997.22it/s]\n",
      "100%|██████████| 1/1 [00:00<?, ?it/s]\n",
      "100%|██████████| 1/1 [00:03<00:00,  3.10s/it]\n",
      "100%|██████████| 1/1 [00:00<?, ?it/s]\n",
      "100%|██████████| 1/1 [00:00<?, ?it/s]\n",
      "100%|██████████| 5/5 [00:02<00:00,  2.22it/s]\n",
      "100%|██████████| 5/5 [00:13<00:00,  2.67s/it]\n",
      "100%|██████████| 1/1 [00:04<00:00,  4.67s/it]\n",
      "100%|██████████| 1/1 [00:02<00:00,  2.57s/it]\n",
      "100%|██████████| 1/1 [00:01<00:00,  1.78s/it]\n",
      "100%|██████████| 1/1 [00:02<00:00,  2.40s/it]\n",
      "100%|██████████| 1/1 [00:01<00:00,  1.73s/it]\n"
     ]
    }
   ],
   "source": [
    "root = tk.Tk()\n",
    "root.title(\"Toxic\")\n",
    "root.configure(bg='#f2f2f2')\n",
    "\n",
    "reset()\n",
    "    \n",
    "root.mainloop()"
   ]
  },
  {
   "cell_type": "code",
   "execution_count": null,
   "metadata": {},
   "outputs": [],
   "source": []
  }
 ],
 "metadata": {
  "kernelspec": {
   "display_name": "Python 3",
   "language": "python",
   "name": "python3"
  },
  "language_info": {
   "codemirror_mode": {
    "name": "ipython",
    "version": 3
   },
   "file_extension": ".py",
   "mimetype": "text/x-python",
   "name": "python",
   "nbconvert_exporter": "python",
   "pygments_lexer": "ipython3",
   "version": "3.8.3"
  }
 },
 "nbformat": 4,
 "nbformat_minor": 5
}
